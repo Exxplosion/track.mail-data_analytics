{
 "cells": [
  {
   "cell_type": "code",
   "execution_count": 1,
   "id": "neither-treat",
   "metadata": {},
   "outputs": [],
   "source": [
    "import numpy as np\n",
    "import pandas as pd\n",
    "import scipy.stats as sps"
   ]
  },
  {
   "cell_type": "markdown",
   "id": "deluxe-programming",
   "metadata": {},
   "source": [
    "Сравним между собой 4,5,10,20 нормально распределенных\n",
    "выборок с равным средним и сигмой без использования поправок.\n",
    "(Сравнение с помощью t-test)"
   ]
  },
  {
   "cell_type": "code",
   "execution_count": 97,
   "id": "reliable-stick",
   "metadata": {},
   "outputs": [],
   "source": [
    "def t_test_or_man_test(N, t):\n",
    "    count_yes = 0\n",
    "    count_no = 0\n",
    "    if (t == 1):\n",
    "        aux = np.array(sps.norm.rvs(size=(N, 200)))\n",
    "    else:\n",
    "        aux = np.array(sps.uniform.rvs(size=(N, 200)))\n",
    "    for i in range(N):\n",
    "        for j in range(i+1, N):\n",
    "            if (t == 1):\n",
    "                stat, p_val = sps.ttest_ind(aux[i][:], aux[j][:])\n",
    "            else:\n",
    "                stat, p_val = sps.mannwhitneyu(aux[i][:], aux[j][:], alternative = 'two-sided')\n",
    "            #print(p_val)\n",
    "            if p_val > 0.05:\n",
    "                count_no += 1\n",
    "            else:\n",
    "                count_yes += 1\n",
    "    print('Нет разницы - ',count_no, 'Есть разница - ', count_yes)"
   ]
  },
  {
   "cell_type": "markdown",
   "id": "speaking-blend",
   "metadata": {},
   "source": [
    "Нормальное распределение:"
   ]
  },
  {
   "cell_type": "code",
   "execution_count": 107,
   "id": "consistent-moscow",
   "metadata": {},
   "outputs": [
    {
     "name": "stdout",
     "output_type": "stream",
     "text": [
      "Нет разницы -  6 Есть разница -  0\n"
     ]
    }
   ],
   "source": [
    "t_test_or_man_test(4, 1)"
   ]
  },
  {
   "cell_type": "code",
   "execution_count": 108,
   "id": "charming-jacob",
   "metadata": {},
   "outputs": [
    {
     "name": "stdout",
     "output_type": "stream",
     "text": [
      "Нет разницы -  10 Есть разница -  0\n"
     ]
    }
   ],
   "source": [
    "t_test_or_man_test(5, 1)"
   ]
  },
  {
   "cell_type": "code",
   "execution_count": 109,
   "id": "blank-brush",
   "metadata": {},
   "outputs": [
    {
     "name": "stdout",
     "output_type": "stream",
     "text": [
      "Нет разницы -  45 Есть разница -  0\n"
     ]
    }
   ],
   "source": [
    "t_test_or_man_test(10, 1)"
   ]
  },
  {
   "cell_type": "code",
   "execution_count": 110,
   "id": "deluxe-waters",
   "metadata": {},
   "outputs": [
    {
     "name": "stdout",
     "output_type": "stream",
     "text": [
      "Нет разницы -  176 Есть разница -  14\n"
     ]
    }
   ],
   "source": [
    "t_test_or_man_test(20, 1)"
   ]
  },
  {
   "cell_type": "markdown",
   "id": "soviet-bronze",
   "metadata": {},
   "source": [
    "Ненормальное (исп-ем критерий Манна-Уитни):"
   ]
  },
  {
   "cell_type": "code",
   "execution_count": 115,
   "id": "experienced-validation",
   "metadata": {},
   "outputs": [
    {
     "name": "stdout",
     "output_type": "stream",
     "text": [
      "Нет разницы -  6 Есть разница -  0\n"
     ]
    }
   ],
   "source": [
    "t_test_or_man_test(4, 0)"
   ]
  },
  {
   "cell_type": "code",
   "execution_count": 116,
   "id": "aware-seminar",
   "metadata": {},
   "outputs": [
    {
     "name": "stdout",
     "output_type": "stream",
     "text": [
      "Нет разницы -  10 Есть разница -  0\n"
     ]
    }
   ],
   "source": [
    "t_test_or_man_test(5, 0)"
   ]
  },
  {
   "cell_type": "code",
   "execution_count": 117,
   "id": "multiple-leadership",
   "metadata": {},
   "outputs": [
    {
     "name": "stdout",
     "output_type": "stream",
     "text": [
      "Нет разницы -  42 Есть разница -  3\n"
     ]
    }
   ],
   "source": [
    "t_test_or_man_test(10, 0)"
   ]
  },
  {
   "cell_type": "code",
   "execution_count": 118,
   "id": "mounted-ideal",
   "metadata": {},
   "outputs": [
    {
     "name": "stdout",
     "output_type": "stream",
     "text": [
      "Нет разницы -  177 Есть разница -  13\n"
     ]
    }
   ],
   "source": [
    "t_test_or_man_test(20, 0)"
   ]
  },
  {
   "cell_type": "markdown",
   "id": "rotary-study",
   "metadata": {},
   "source": [
    "Таким образом, с увеличением кол-ва проверок возрастает шанс допустить ошибку. "
   ]
  }
 ],
 "metadata": {
  "kernelspec": {
   "display_name": "Python 3",
   "language": "python",
   "name": "python3"
  },
  "language_info": {
   "codemirror_mode": {
    "name": "ipython",
    "version": 3
   },
   "file_extension": ".py",
   "mimetype": "text/x-python",
   "name": "python",
   "nbconvert_exporter": "python",
   "pygments_lexer": "ipython3",
   "version": "3.9.7"
  }
 },
 "nbformat": 4,
 "nbformat_minor": 5
}
